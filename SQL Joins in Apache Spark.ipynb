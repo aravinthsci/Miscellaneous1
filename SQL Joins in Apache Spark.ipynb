{
 "cells": [
  {
   "cell_type": "code",
   "execution_count": 11,
   "metadata": {},
   "outputs": [
    {
     "name": "stdout",
     "output_type": "stream",
     "text": [
      "+-------+------------+---------+----------+\n",
      "|ITEM_ID|   ITEM_NAME|ITEM_UNIT|COMPANY_ID|\n",
      "+-------+------------+---------+----------+\n",
      "|      1|    Chex Mix|      Pcs|        16|\n",
      "|      6|    Cheez-It|      Pcs|        15|\n",
      "|      2|  BN Biscuit|      Pcs|        15|\n",
      "|      3|Mighty Munch|      Pcs|        17|\n",
      "|      4|    Pot Rice|      Pcs|        15|\n",
      "|      5| Jaffa Cakes|      Pcs|        18|\n",
      "|      7|Salt n Shake|      Pcs|        12|\n",
      "+-------+------------+---------+----------+\n",
      "\n"
     ]
    },
    {
     "data": {
      "text/plain": [
       "foods = [ITEM_ID: int, ITEM_NAME: string ... 2 more fields]\n"
      ]
     },
     "metadata": {},
     "output_type": "display_data"
    },
    {
     "data": {
      "text/plain": [
       "[ITEM_ID: int, ITEM_NAME: string ... 2 more fields]"
      ]
     },
     "execution_count": 11,
     "metadata": {},
     "output_type": "execute_result"
    }
   ],
   "source": [
    "val foods = Seq(\n",
    "    (1,\"Chex Mix\",\"Pcs\",16),\n",
    "    (6,\"Cheez-It\",\"Pcs\",15),\n",
    "    (2,\"BN Biscuit\",\"Pcs\",15),\n",
    "    (3,\"Mighty Munch\",\"Pcs\",17),\n",
    "    (4,\"Pot Rice\",\"Pcs\",15),\n",
    "    (5,\"Jaffa Cakes\",\"Pcs\",18),\n",
    "    (7,\"Salt n Shake\",\"Pcs\",12)  \n",
    ").toDF(\"ITEM_ID\",\"ITEM_NAME\",\"ITEM_UNIT\",\"COMPANY_ID\")\n",
    "foods.show()\n",
    "foods.createOrReplaceTempView(\"foods\")"
   ]
  },
  {
   "cell_type": "code",
   "execution_count": 12,
   "metadata": {},
   "outputs": [
    {
     "name": "stdout",
     "output_type": "stream",
     "text": [
      "+----------+-------------+------------+\n",
      "|COMPANY_ID| COMPANY_NAME|COMPANY_CITY|\n",
      "+----------+-------------+------------+\n",
      "|        18|    Order All|      Boston|\n",
      "|        15|Jack Hill Ltd|      London|\n",
      "|        16|   Akas Foods|       Delhi|\n",
      "|        17|     Foodies.|      London|\n",
      "|        19|  sip-n-Bite.|    New York|\n",
      "+----------+-------------+------------+\n",
      "\n"
     ]
    },
    {
     "data": {
      "text/plain": [
       "company = [COMPANY_ID: int, COMPANY_NAME: string ... 1 more field]\n"
      ]
     },
     "metadata": {},
     "output_type": "display_data"
    },
    {
     "data": {
      "text/plain": [
       "[COMPANY_ID: int, COMPANY_NAME: string ... 1 more field]"
      ]
     },
     "execution_count": 12,
     "metadata": {},
     "output_type": "execute_result"
    }
   ],
   "source": [
    "val company = Seq(\n",
    "    (18,\"Order All\",\"Boston\"),       \n",
    "(15,\"Jack Hill Ltd\",\"London\"),       \n",
    "(16,\"Akas Foods\",\"Delhi\"),   \n",
    "(17,\"Foodies.\",\"London\"),    \n",
    "(19,\"sip-n-Bite.\",\"New York\")   \n",
    ").toDF(\"COMPANY_ID\",\"COMPANY_NAME\",\"COMPANY_CITY\")\n",
    "company.show()\n",
    "company.createOrReplaceTempView(\"company\")"
   ]
  },
  {
   "cell_type": "markdown",
   "metadata": {},
   "source": [
    "# Cartesian (Cross) Joins"
   ]
  },
  {
   "attachments": {},
   "cell_type": "markdown",
   "metadata": {},
   "source": [
    "![title](https://www.w3resource.com/w3r_images/cross-join-round.png)"
   ]
  },
  {
   "cell_type": "code",
   "execution_count": 14,
   "metadata": {},
   "outputs": [
    {
     "name": "stdout",
     "output_type": "stream",
     "text": [
      "+------------+---------+-------------+------------+\n",
      "|   item_name|item_unit| company_name|company_city|\n",
      "+------------+---------+-------------+------------+\n",
      "|    Chex Mix|      Pcs|    Order All|      Boston|\n",
      "|    Chex Mix|      Pcs|Jack Hill Ltd|      London|\n",
      "|    Chex Mix|      Pcs|   Akas Foods|       Delhi|\n",
      "|    Chex Mix|      Pcs|     Foodies.|      London|\n",
      "|    Chex Mix|      Pcs|  sip-n-Bite.|    New York|\n",
      "|    Cheez-It|      Pcs|    Order All|      Boston|\n",
      "|    Cheez-It|      Pcs|Jack Hill Ltd|      London|\n",
      "|    Cheez-It|      Pcs|   Akas Foods|       Delhi|\n",
      "|    Cheez-It|      Pcs|     Foodies.|      London|\n",
      "|    Cheez-It|      Pcs|  sip-n-Bite.|    New York|\n",
      "|  BN Biscuit|      Pcs|    Order All|      Boston|\n",
      "|  BN Biscuit|      Pcs|Jack Hill Ltd|      London|\n",
      "|  BN Biscuit|      Pcs|   Akas Foods|       Delhi|\n",
      "|  BN Biscuit|      Pcs|     Foodies.|      London|\n",
      "|  BN Biscuit|      Pcs|  sip-n-Bite.|    New York|\n",
      "|Mighty Munch|      Pcs|    Order All|      Boston|\n",
      "|Mighty Munch|      Pcs|Jack Hill Ltd|      London|\n",
      "|Mighty Munch|      Pcs|   Akas Foods|       Delhi|\n",
      "|Mighty Munch|      Pcs|     Foodies.|      London|\n",
      "|Mighty Munch|      Pcs|  sip-n-Bite.|    New York|\n",
      "+------------+---------+-------------+------------+\n",
      "only showing top 20 rows\n",
      "\n"
     ]
    }
   ],
   "source": [
    "    spark.sql(\n",
    "      \"\"\"\n",
    "        |SELECT foods.item_name,foods.item_unit,\n",
    "        |company.company_name,company.company_city\n",
    "        |FROM foods\n",
    "        |CROSS JOIN company\n",
    "        |\"\"\".stripMargin\n",
    "    ).show()"
   ]
  },
  {
   "cell_type": "markdown",
   "metadata": {},
   "source": [
    "# Inner join"
   ]
  },
  {
   "cell_type": "markdown",
   "metadata": {},
   "source": [
    "![title](https://www.w3resource.com/w3r_images/sqlite-inner-join-pictorial-presentation.gif)"
   ]
  },
  {
   "cell_type": "code",
   "execution_count": 17,
   "metadata": {},
   "outputs": [
    {
     "name": "stdout",
     "output_type": "stream",
     "text": [
      "+------------+---------+-------------+------------+----------+\n",
      "|   item_name|item_unit| company_name|company_city|COMPANY_ID|\n",
      "+------------+---------+-------------+------------+----------+\n",
      "|    Chex Mix|      Pcs|   Akas Foods|       Delhi|        16|\n",
      "|    Cheez-It|      Pcs|Jack Hill Ltd|      London|        15|\n",
      "|  BN Biscuit|      Pcs|Jack Hill Ltd|      London|        15|\n",
      "|Mighty Munch|      Pcs|     Foodies.|      London|        17|\n",
      "|    Pot Rice|      Pcs|Jack Hill Ltd|      London|        15|\n",
      "| Jaffa Cakes|      Pcs|    Order All|      Boston|        18|\n",
      "+------------+---------+-------------+------------+----------+\n",
      "\n"
     ]
    }
   ],
   "source": [
    "    spark.sql(\n",
    "      \"\"\"\n",
    "        |SELECT foods.item_name,foods.item_unit,\n",
    "        |company.company_name,company.company_city,foods.COMPANY_ID\n",
    "        |FROM foods\n",
    "        |INNER JOIN company\n",
    "        |ON foods.COMPANY_ID = company.COMPANY_ID\n",
    "        |\"\"\".stripMargin\n",
    "    ).show"
   ]
  },
  {
   "cell_type": "markdown",
   "metadata": {},
   "source": [
    "# Left Join "
   ]
  },
  {
   "cell_type": "markdown",
   "metadata": {},
   "source": [
    "![title](http://www.sqltutorial.org/wp-content/uploads/2016/03/SQL-LEFT-JOIN.png)"
   ]
  },
  {
   "cell_type": "code",
   "execution_count": 20,
   "metadata": {},
   "outputs": [
    {
     "name": "stdout",
     "output_type": "stream",
     "text": [
      "+------------+---------+-------------+------------+----------+\n",
      "|   item_name|item_unit| company_name|company_city|COMPANY_ID|\n",
      "+------------+---------+-------------+------------+----------+\n",
      "|    Chex Mix|      Pcs|   Akas Foods|       Delhi|        16|\n",
      "|    Cheez-It|      Pcs|Jack Hill Ltd|      London|        15|\n",
      "|  BN Biscuit|      Pcs|Jack Hill Ltd|      London|        15|\n",
      "|Mighty Munch|      Pcs|     Foodies.|      London|        17|\n",
      "|    Pot Rice|      Pcs|Jack Hill Ltd|      London|        15|\n",
      "| Jaffa Cakes|      Pcs|    Order All|      Boston|        18|\n",
      "|Salt n Shake|      Pcs|         null|        null|        12|\n",
      "+------------+---------+-------------+------------+----------+\n",
      "\n"
     ]
    }
   ],
   "source": [
    "    spark.sql(\n",
    "      \"\"\"\n",
    "        |SELECT foods.item_name,foods.item_unit,\n",
    "        |company.company_name,company.company_city,foods.COMPANY_ID\n",
    "        |FROM foods\n",
    "        |LEFT JOIN company\n",
    "        |ON foods.COMPANY_ID = company.COMPANY_ID\n",
    "        |\"\"\".stripMargin\n",
    "    ).show"
   ]
  },
  {
   "cell_type": "markdown",
   "metadata": {},
   "source": [
    "# Right Join"
   ]
  },
  {
   "cell_type": "markdown",
   "metadata": {},
   "source": [
    "![title](https://www.w3resource.com/w3r_images/mysql-right-join-set-image.png)"
   ]
  },
  {
   "cell_type": "code",
   "execution_count": 22,
   "metadata": {},
   "outputs": [
    {
     "name": "stdout",
     "output_type": "stream",
     "text": [
      "+------------+---------+-------------+------------+----------+\n",
      "|   item_name|item_unit| company_name|company_city|COMPANY_ID|\n",
      "+------------+---------+-------------+------------+----------+\n",
      "| Jaffa Cakes|      Pcs|    Order All|      Boston|        18|\n",
      "|    Pot Rice|      Pcs|Jack Hill Ltd|      London|        15|\n",
      "|  BN Biscuit|      Pcs|Jack Hill Ltd|      London|        15|\n",
      "|    Cheez-It|      Pcs|Jack Hill Ltd|      London|        15|\n",
      "|    Chex Mix|      Pcs|   Akas Foods|       Delhi|        16|\n",
      "|Mighty Munch|      Pcs|     Foodies.|      London|        17|\n",
      "|        null|     null|  sip-n-Bite.|    New York|        19|\n",
      "+------------+---------+-------------+------------+----------+\n",
      "\n"
     ]
    }
   ],
   "source": [
    "    spark.sql(\n",
    "      \"\"\"\n",
    "        |SELECT foods.item_name,foods.item_unit,\n",
    "        |company.company_name,company.company_city,company.COMPANY_ID\n",
    "        |FROM foods\n",
    "        |RIGHT JOIN company\n",
    "        |ON foods.COMPANY_ID = company.COMPANY_ID\n",
    "        |\"\"\".stripMargin\n",
    "    ).show"
   ]
  },
  {
   "cell_type": "markdown",
   "metadata": {},
   "source": [
    "# Full Outer Join"
   ]
  },
  {
   "cell_type": "markdown",
   "metadata": {},
   "source": [
    "![title](http://www.sqltutorial.org/wp-content/uploads/2016/07/SQL-FULL-OUTER-JOIN.png)"
   ]
  },
  {
   "cell_type": "code",
   "execution_count": 23,
   "metadata": {},
   "outputs": [
    {
     "name": "stdout",
     "output_type": "stream",
     "text": [
      "+------------+---------+-------------+------------+----------+\n",
      "|   item_name|item_unit| company_name|company_city|COMPANY_ID|\n",
      "+------------+---------+-------------+------------+----------+\n",
      "|Salt n Shake|      Pcs|         null|        null|      null|\n",
      "|    Chex Mix|      Pcs|   Akas Foods|       Delhi|        16|\n",
      "|        null|     null|  sip-n-Bite.|    New York|        19|\n",
      "|    Cheez-It|      Pcs|Jack Hill Ltd|      London|        15|\n",
      "|  BN Biscuit|      Pcs|Jack Hill Ltd|      London|        15|\n",
      "|    Pot Rice|      Pcs|Jack Hill Ltd|      London|        15|\n",
      "|Mighty Munch|      Pcs|     Foodies.|      London|        17|\n",
      "| Jaffa Cakes|      Pcs|    Order All|      Boston|        18|\n",
      "+------------+---------+-------------+------------+----------+\n",
      "\n"
     ]
    }
   ],
   "source": [
    "    spark.sql(\n",
    "      \"\"\"\n",
    "        |SELECT foods.item_name,foods.item_unit,\n",
    "        |company.company_name,company.company_city,company.COMPANY_ID\n",
    "        |FROM foods\n",
    "        |FULL OUTER JOIN company\n",
    "        |ON foods.COMPANY_ID = company.COMPANY_ID\n",
    "        |\"\"\".stripMargin\n",
    "    ).show"
   ]
  },
  {
   "cell_type": "markdown",
   "metadata": {},
   "source": [
    "# Natural Join"
   ]
  },
  {
   "cell_type": "markdown",
   "metadata": {},
   "source": [
    "![title](https://www.w3resource.com/w3r_images/sqlite-natural-join.gif)"
   ]
  },
  {
   "cell_type": "code",
   "execution_count": 28,
   "metadata": {},
   "outputs": [
    {
     "name": "stdout",
     "output_type": "stream",
     "text": [
      "+----------+-------+------------+---------+-------------+------------+\n",
      "|COMPANY_ID|ITEM_ID|   ITEM_NAME|ITEM_UNIT| COMPANY_NAME|COMPANY_CITY|\n",
      "+----------+-------+------------+---------+-------------+------------+\n",
      "|        16|      1|    Chex Mix|      Pcs|   Akas Foods|       Delhi|\n",
      "|        15|      6|    Cheez-It|      Pcs|Jack Hill Ltd|      London|\n",
      "|        15|      2|  BN Biscuit|      Pcs|Jack Hill Ltd|      London|\n",
      "|        17|      3|Mighty Munch|      Pcs|     Foodies.|      London|\n",
      "|        15|      4|    Pot Rice|      Pcs|Jack Hill Ltd|      London|\n",
      "|        18|      5| Jaffa Cakes|      Pcs|    Order All|      Boston|\n",
      "+----------+-------+------------+---------+-------------+------------+\n",
      "\n"
     ]
    },
    {
     "data": {
      "text/plain": [
       "lastException: Throwable = null\n"
      ]
     },
     "metadata": {},
     "output_type": "display_data"
    }
   ],
   "source": [
    "    spark.sql(\n",
    "      \"\"\"\n",
    "        |SELECT *\n",
    "        |FROM foods\n",
    "        |NATURAL JOIN company\n",
    "        |\"\"\".stripMargin\n",
    "    ).show"
   ]
  },
  {
   "cell_type": "code",
   "execution_count": null,
   "metadata": {},
   "outputs": [],
   "source": []
  }
 ],
 "metadata": {
  "kernelspec": {
   "display_name": "Apache Toree - Scala",
   "language": "scala",
   "name": "apache_toree_scala"
  },
  "language_info": {
   "codemirror_mode": "text/x-scala",
   "file_extension": ".scala",
   "mimetype": "text/x-scala",
   "name": "scala",
   "pygments_lexer": "scala",
   "version": "2.11.12"
  }
 },
 "nbformat": 4,
 "nbformat_minor": 2
}
